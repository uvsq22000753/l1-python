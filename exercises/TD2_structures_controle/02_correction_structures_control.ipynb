{
 "cells": [
  {
   "cell_type": "markdown",
   "metadata": {
    "slideshow": {
     "slide_type": "slide"
    }
   },
   "source": [
    "# TD 2: Les structures de contrôle\n",
    "\n",
    "---\n",
    "\n",
    "## 0. Récupération des nouveaux documents\n",
    "\n",
    "\n",
    "Les sujets de TD ainsi que les supports de cours sont publiés en ligne au fur et à mesure sur l'espace github original [https://github.com/uvsq-info/l1-python](https://github.com/uvsq-info/l1-python). Au moment où vous avez fait le fork de cet espace sur votre espace personnel, il est probable que tous les contenus n'étaient pas présents. Pour compléter votre espace, deux solutions sont possibles:\n",
    "\n",
    "\n",
    "1. (solution à privilégier) aller sur la page du projet original [https://github.com/uvsq-info/l1-python](https://github.com/uvsq-info/l1-python), et cliquer sur le bouton vert `Code` en haut à droite. Choisir `download ZIP`, puis extraire l'ensemble des nouveaux fichiers vers votre projet personnel local. Vous pouvez ensuite sauvegarder ces ajouts dans votre espace github personnel en suivant la procédure habituelle.\n",
    "2. (solution qui présente des risques de conflits entre différentes versions d'un même document) en ligne de commande dans le terminal, en suivant la procédure de la section *Intégrer les mises à jour du projet original* du fichier [README.md](https://github.com/uvsq-info/l1-python/blob/master/README.md#int%C3%A9grer-les-mises-%C3%A0-jour-du-projet-original)\n"
   ]
  },
  {
   "cell_type": "markdown",
   "metadata": {
    "slideshow": {
     "slide_type": "slide"
    }
   },
   "source": [
    "---\n",
    "\n",
    "## 1. Premiers exercices avec les structures conditionnelles\n",
    "\n",
    "**Exercice 1:**\n",
    "\n",
    "1. Soit *num1 = 15* et *num2 = 5*. Ecrire un programme qui affiche *Factors!* si l'un des nombres est un facteur de l'autre (c'est-à-dire qu'il divise l'autre nombre). Si aucun des nombres n'est un facteur de l'autre, le programme n'affiche rien.\n",
    "2. Changer le code que vous avez écrit de telle sorte qu'il affiche toujours *Factors!* si un nombre est un facteur de l'autre, mais qui affiche aussi *Not factors!* si aucun des nombres n'est un facteur de l'autre."
   ]
  },
  {
   "cell_type": "code",
   "execution_count": null,
   "metadata": {
    "slideshow": {
     "slide_type": "notes"
    }
   },
   "outputs": [],
   "source": [
    "num1 = 15\n",
    "num2 = 5\n",
    "\n",
    "#Un nombre divise un autre si le reste de la division entière est nulle.\n",
    "#Un nombre plus petit qu'un autre n'est pas divisible par le grand \n",
    "\n",
    "#print(\"Le quotient vaut\", num1 // num2) #Affiche le quotient de la division de 15 par 5\n",
    "#print(\"Le reste vaut\", num1 % num2)     #Affiche le reste de la division entière de 15 par 5\n",
    "\n",
    "#Première solution \n",
    "if  (num1 <= num2):         #On vérifie si num1 est plus petit ou égal à num2\n",
    "   if (num2 % num1 == 0):  #Si num1 <= num2, on vérifie si num2 (le plus grand) est divisible par num1 ( le plus petit)\n",
    "        print(\"> Factors 1er cas!!\")\n",
    "else:                       #Cette condition verifie si num1 > num2. ATTENTION : strictement supérieur.\n",
    "    if (num1 % num2 == 0):  #Si num1 <= num2, on vérifie si num2 (le plus grand) est divisible par num1 ( le plus petit)\n",
    "        print(\"> Factors 2 ème cas !!\")\n",
    "\n",
    "#Deuxième solution\n",
    "if (num2 % num1 == 0):\n",
    "    print(\"Factors\")\n",
    "if (num1 % num2 == 0):\n",
    "    print(\"Factors\")\n",
    "\n",
    "#Troisième solution\n",
    "if ( (num1 % num2 == 0) or (num2 % num1 == 0) ):\n",
    "    print(\"Factors !\")\n",
    "\n",
    "\n"
   ]
  },
  {
   "source": [
    "**Exercice 2:**\n",
    "    \n",
    "Soit *state = \"Georgia\"*. Ecrire un programme qui permet d'afficher un message spécifique en fonction de la variable *state* :  \n",
    "* \"School isn't cancelled.\" si nous sommes à New Jersey,  \n",
    "* \"School is postponed.\" si nous sommes à North Carolina,\n",
    "* \"School is cancelled!\" si nous sommes à Georgia,  \n",
    "* \"School's status is unknown\" si nous ne sommes pas dans un des trois états précédemment mentionnés."
   ],
   "cell_type": "code",
   "metadata": {
    "slideshow": {
     "slide_type": "slide"
    }
   },
   "execution_count": null,
   "outputs": []
  },
  {
   "cell_type": "code",
   "execution_count": null,
   "metadata": {
    "slideshow": {
     "slide_type": "notes"
    }
   },
   "outputs": [],
   "source": [
    "state = \"Georgia\"\n",
    "\n",
    "\n",
    "# 1 ère solution (un peu naïve) : car la dernière condition doit vérifier que nous ne sommes dans aucun des cas précédents (trop de codes)\n",
    "\"\"\"if (state == \"New Jersey\"):\n",
    "    print(\"School isn't cancelled\")\n",
    "\n",
    "if (state == \"North Carolina\"):\n",
    "    print(\"School is postponed\")\n",
    "\n",
    "if (state == \"Georgia\"):\n",
    "   print(\"School is cancelled !\")\n",
    "\n",
    "if (state != \"New Jersey\" and state != \"North Carolina\" and state != \"Georgia\"):\n",
    "    print(\"School's status is unknown\") \"\"\"\n",
    "\n",
    "\n",
    "#2ème solution (meilleure solution)\n",
    "#if - elif (else if) - else\n",
    "\"\"\"if (state == \"New Jersey\"):\n",
    "    print(\"School isn't cancelled\")\n",
    "elif (state == \"North Carolina\"):\n",
    "    print(\"School is postponed\")\n",
    "elif (state == \"Georgia\"):\n",
    "    print(\"School is cancelled !\")\n",
    "else:\n",
    "    print(\"School's status is unknown\")\"\"\"\n",
    "\n",
    "#3ème solution (compliqué pour rien)\n",
    "a = 0\n",
    "if (state == \"New Jersey\"):\n",
    "    a = 1\n",
    "elif (state == \"North Carolina\"):\n",
    "    a = 2\n",
    "elif (state == \"Georgia\"):\n",
    "    a = 3\n",
    "else:\n",
    "    a = 4\n",
    "\n",
    "statut = \" \"\n",
    "if (a == 1):\n",
    "    statut = \"Not cancelled\"\n",
    "if (a == 2):\n",
    "    statut = \"Postponned\"\n",
    "if (a == 3):\n",
    "    statut = \"Cancelled\"\n",
    "if (a == 4):\n",
    "    statut = \"Status unknown\"\n",
    "\n",
    "print(\"School status :\", statut)\n",
    "\n",
    "\n"
   ]
  },
  {
   "cell_type": "markdown",
   "metadata": {
    "slideshow": {
     "slide_type": "slide"
    }
   },
   "source": [
    "**Exercice 3:**\n",
    "\n",
    "Ecrire un programme pour découvrir le signe du zodiaque chinois pour une année donnée. Le signe du zodiaque chinois est basé sur un cycle de 12 ans et chaque année de ce cycle est représentée par un animal :\n",
    "* 0: monkey\n",
    "* 1: rooster\n",
    "* 2: dog\n",
    "* 3: pig\n",
    "* 4: rat\n",
    "* 5: ox\n",
    "* 6: tiger\n",
    "* 7: rabbit\n",
    "* 8: dragon\n",
    "* 9: snake\n",
    "* 10: horse\n",
    "* 11: sheep\n",
    "\n",
    "La valeur de l'année % 12 détermine le signe du zodiaque. Par exemple, 1900 est l'année du *rat* puisque 1900 % 12 est 4."
   ]
  },
  {
   "cell_type": "code",
   "execution_count": null,
   "metadata": {
    "slideshow": {
     "slide_type": "notes"
    }
   },
   "outputs": [],
   "source": [
    "\"\"\"from random import *\n",
    "\n",
    "annee = randint(1,2020)     #Tire une année au hasard entre 1 et 2020\n",
    "numero_cycle = annee % 12   #Calcule le numéro du cycle et le stocke dans la variable numero_cycle\n",
    "\n",
    "liste_animaux = [\"monkey\", \"rooster\", \"dog\", \"pig\", \"rat\", \"ox\", \"tiger\", \"rabbit\", \"dragon\", \"snake\", \"horse\", \"sheep\"] #déclaration d'une liste d'animaux\n",
    "\n",
    "print(\"> Le numéro du cycle associé à l'année\", annee, \"est\", numero_cycle)\n",
    "print(\"> L'animal est\", liste_animaux[numero_cycle])\"\"\"\n",
    "\n",
    "\n",
    "\n",
    "\n",
    "\n",
    "a = input(\"entrer une année\")\n",
    "if  int(a) % 12 == 0 :\n",
    "    print(a, \"est l année du singe\")\n",
    "elif int(a) % 12 == 1 :\n",
    "    print(a, \" est l année du coq\")\n",
    "elif int(a) % 12 == 2 :\n",
    "    print(\" input(a) est l année du chien\")\n",
    "elif int(a) % 12 == 3 :\n",
    "    print(\" input(a) est l année du cochon\")\n",
    "elif int(a) % 12 == 4 :\n",
    "    print(\" input(a) est l année du rat\")\n",
    "elif int(a) % 12 == 5 :\n",
    "    print(\"input(a) est l année du boeuf\")\n",
    "elif int(a) % 12 == 6 :\n",
    "    print(\"input(a) est l année du tigre\")\n",
    "elif int(a) % 12 == 7 :\n",
    "    print(\"input(a) est l année du lapin\")\n",
    "elif int(a) % 12 == 8 :\n",
    "    print(\"input(a) est l année du dragon\")\n",
    "elif int(a) % 12 == 9 :\n",
    "    print(\"input(a) est l année du serpent\")\n",
    "elif int(a) % 12 == 10 : \n",
    "    print(\"input(a) est l année du cheval\")\n",
    "elif int(a) % 12 == 11: \n",
    "    print(\"input(a) est l année du mouton\")\n",
    "\n",
    "#ATTENTION : JAMAIS DE CONDITION SI ON UTILISE UN ELSE\n",
    "#if (condition):\n",
    "#    instruction1\n",
    "#else: (Sans CONDITION)\n",
    "#   instruction2\n",
    "\n",
    "\n"
   ]
  },
  {
   "cell_type": "markdown",
   "metadata": {
    "slideshow": {
     "slide_type": "slide"
    }
   },
   "source": [
    "**Exercice 4:**\n",
    "\n",
    "Soit *temperature = -3.7* et *celsius = True*. \n",
    "*celsius* est une variable booléenne qui indique si la température est en Celsius; si c'est *False*, alors la température donnée est en Fahrenheit. \n",
    "\n",
    "Ecrire un premier programme en utilisant *if-else* seulement qui permet d'afficher *Freezing* si les valeurs données représentent une température très basse, et *Not freezing* si ce n'est pas le cas. \n",
    "\n",
    "En Celsius, on considère qu'il fait très froid lorsque la température est inférieure ou égale à 0 degré. En Fahrenheit, on considère qu'il fait très froid lorsque la température est inférieure ou égale à 32 degrés. \n",
    "\n",
    "\n",
    "\n",
    "Proposer une seconde solution en utilisant *if-elif-else* à ce même problème."
   ]
  },
  {
   "cell_type": "code",
   "execution_count": null,
   "metadata": {
    "slideshow": {
     "slide_type": "notes"
    }
   },
   "outputs": [],
   "source": [
    "from random import *\n",
    "\n",
    "temperature = randint(-100,100) #Tire un nombre aléatoire entre -100 et 100\n",
    "celsius = bool(randint(0,1))    #Celsius est aléatoirement vrai ou faux car on tire un nombre aléatoire entre 0 et 1 et on convertit cette valeur en type booléen\n",
    "\n",
    "if(celsius == True):\n",
    "    var = \"Celsius\"\n",
    "else:\n",
    "    var = \"Fahrenheit\"\n",
    "print(\">La température est de\", temperature,\"degrés\", var)\n",
    "\n",
    "#EXEMPLE DE STRUCTURES CONDITIONNELLES IMBRIQUÉES\n",
    "\"\"\"if (celsius == True):           #Si la température donnée est en celsius ALORS\n",
    "                                #Je veux vérifier si elle est considérée comme très froide, c'est à dire inférieure ou égale à 0 degré\n",
    "    if (temperature <= 0):\n",
    "        print(\">    Freezing\")\n",
    "    else:                       #Sinon (si elle est supérieure à 0 degré : elle n'est pas glacée)\n",
    "        print(\">    Not freezing\")\n",
    "else:                           #Ce else là teste la condition opposée à if (celsius == True). C'est à dire, si celsius == False, alors on entre dans le else\n",
    "    #On sait qu'on est en Fahrenheit.\n",
    "    if (temperature <= 32):\n",
    "        print(\">    Freezing\")\n",
    "    else:\n",
    "        print(\">    Not freezing\")\"\"\"\n",
    "\n",
    "\n",
    "\n",
    "#2 ème méthode (utilisation d'une variable pour indiquer si c'est Freezing ou pas)\n",
    "\"\"\"variable_indicateur = 0     #initialisation d'une variable à 0\n",
    "\n",
    "if (celsius == True):          \n",
    "    if (temperature <= 0):\n",
    "        variable_indicateur = 1\n",
    "else:                           \n",
    "    if (temperature <= 32):\n",
    "        variable_indicateur = 1\n",
    "\n",
    "if (variable_indicateur == 1):\n",
    "    print(\"Freezing\")\n",
    "else:\n",
    "    print(\"Not Freezing\")\"\"\"\n",
    "\n",
    "#3 ème méthode (conditions plus grandes)\n",
    "\"\"\"Freezing = 0     #initialisation d'une variable à 0\n",
    "\n",
    "if (celsius == True and temperature <= 0):         \n",
    "    Freezing = 1 \n",
    "elif(celsius == False and temperature <= 32):\n",
    "    Freezing = 1\n",
    "\n",
    "if (Freezing == 1):\n",
    "    print(\"Freezing\")\n",
    "else:\n",
    "    print(\"Not Freezing\")\"\"\"\n",
    "\n",
    "#4 ème if-elif-else\n",
    "\n",
    "\"\"\"if (celsius == True and temperature <= 0 ):         \n",
    "    print(\"Freezing\")\n",
    "elif(celsius == False and temperature <= 32):\n",
    "    print(\"Freezing\")\n",
    "else:\n",
    "    print(\"Not Freezing\")\"\"\"\n",
    "\n",
    "\n",
    "#5ème \n",
    "if ( (celsius == True and temperature <= 0) or (celsius == False and temperature <= 32) ):         \n",
    "    print(\"Freezing\")\n",
    "else:\n",
    "    print(\"Not Freezing\")\n",
    "\n",
    "\n"
   ]
  },
  {
   "cell_type": "markdown",
   "metadata": {
    "slideshow": {
     "slide_type": "slide"
    }
   },
   "source": [
    "**Exercice 5:**\n",
    "    \n",
    "Ecrire un programme qui permet de déterminer si une année est bissextile ou non en utilisant une seule instruction *if-else*. Une année *A* est bissextile si *A* est divisible par 4. Elle ne l’est cependant pas si *A* est un multiple\n",
    "de 100, à moins que *A* ne soit multiple de 400.    "
   ]
  },
  {
   "cell_type": "code",
   "execution_count": null,
   "metadata": {
    "slideshow": {
     "slide_type": "notes"
    }
   },
   "outputs": [],
   "source": []
  },
  {
   "source": [
    "---\n",
    "\n",
    "## 2. Premiers exercices avec les structures itératives\n",
    "\n",
    "**Exercice 6:**\n",
    "\n",
    "1. Ecrire un programme qui permet d'afficher tous les nombres entre 1 et 10 (bornes incluses).\n",
    "2. Ecrire un programme se limitant à la boucle *for* qui permet d'afficher tous les nombres pairs entre 1 et 20 (bornes incluses). \n",
    "2.1 Proposer une deuxième solution en incluant une structure conditionnelle.\n",
    "\n",
    "RAPPEL : range(start, stop, step)\n",
    "\n",
    "start :Optional. An integer number specifying at which position to start. Default is 0.\n",
    "\n",
    "stop  :Required. An integer number specifying at which position to stop (not included).\n",
    "\n",
    "step  :Optional. An integer number specifying the incrementation. Default is 1\n",
    "\n",
    "\n"
   ],
   "cell_type": "markdown",
   "metadata": {}
  },
  {
   "cell_type": "code",
   "execution_count": null,
   "metadata": {},
   "outputs": [],
   "source": [
    "#Question 1\n",
    "sequence = range(1,11)      #Création d'une séquence des nombres entre 1 et 10\n",
    "sequence = list(sequence)   #Convertir en type liste\n",
    "print(sequence)             #Afficher la liste\n",
    "\n",
    "#Question 2\n",
    "liste_nombre_impair = list(range(1,20,2))\n",
    "print(\"La liste des nombres impairs est :\",liste_nombre_impair)\n",
    "\n",
    "liste_nombre_pair = [ ]     #Création d'une liste vide\n",
    "for k in range(1, 20, 2):   #Ici range(1,20,2) est en fait tous les nombres impairs\n",
    "   liste_nombre_pair.append(k+1)    #La méthode .append() ajoute un element à la liste\n",
    "\n",
    "print(\"La liste des nombres pairs est :\", liste_nombre_pair)\n"
   ]
  },
  {
   "source": [
    "**Exercice 7:**\n",
    "    \n",
    "1. Ecrire un programme qui demande à l'utilisateur de saisir *n* nombres, *n* étant choisi par l'utilisateur, puis d'afficher la moyenne de ces nombres.\n",
    "\n",
    "2. Même question, mais l'utilisateur ne choisit pas à l'avance le nombre *n*, la procédure s'arrête quand il saisit le nombre -1.\n"
   ],
   "cell_type": "markdown",
   "metadata": {}
  },
  {
   "cell_type": "code",
   "execution_count": 6,
   "metadata": {},
   "outputs": [
    {
     "output_type": "stream",
     "name": "stdout",
     "text": [
      ">L'utilisateur à 3 nombres à choisir\n",
      "La moyenne des nombres rentrés par l'utilisateur est 15\n"
     ]
    }
   ],
   "source": [
    "from random import *\n",
    "#Question 1\n",
    "#Demander à l'utilisateur : Fontion input()\n",
    "#Afficher : fonction print()\n",
    "#Moyenne de n nombre : somme des nombres divisé par le nombre de nombres.\n",
    "\n",
    "n = randint(3,5)\n",
    "print(\">L'utilisateur à\", n, \"nombres à choisir\")\n",
    "\n",
    "moyenne = 0\n",
    "for i in range(0,n):\n",
    "    new_nombre = int(input(\"Veuillez entrer un nouveau nombre\"))\n",
    "    moyenne = moyenne + new_nombre\n",
    "\n",
    "moyenne = moyenne // n\n",
    "print(\"La moyenne des nombres rentrés par l'utilisateur est\", moyenne)\n",
    "\n",
    "\n"
   ]
  },
  {
   "source": [
    "**Exercice 8:**\n",
    "\n",
    "Ecrire un programme qui permet de calculer le factoriel d'un nombre positif donné par l'utlisateur selon la formule suivante : \n",
    "n! = 1 x 2 x ... x n.  \n",
    "\n",
    "1. Une première version en utilisant la boucle *for*\n",
    "2. Une seconde version en utilisant la boucle *while*"
   ],
   "cell_type": "markdown",
   "metadata": {}
  },
  {
   "cell_type": "code",
   "execution_count": 11,
   "metadata": {},
   "outputs": [
    {
     "output_type": "stream",
     "name": "stdout",
     "text": [
      "Factoriel de 3 est 6\n"
     ]
    }
   ],
   "source": [
    "\n",
    "from random import *\n",
    "\n",
    "n = randint(3,3)\n",
    "factoriel = 1\n",
    "for i in range(1, n+1):\n",
    "    factoriel *= i\n",
    "\n",
    "print(\"Factoriel de\", n, \"est\",factoriel)\n"
   ]
  },
  {
   "cell_type": "code",
   "execution_count": null,
   "metadata": {},
   "outputs": [],
   "source": []
  },
  {
   "cell_type": "markdown",
   "metadata": {
    "slideshow": {
     "slide_type": "slide"
    }
   },
   "source": [
    "---\n",
    "\n",
    "## 3. Pour aller plus loin\n",
    "\n",
    "**Excercice 9:**\n",
    "\n",
    "Ecrire un programme qui permet de connaître le jour de naissance de l'utilisateur en posant cinq questions.\n",
    "Chaque question demande si le jour est dans l'un des cinq ensembles suivants :\n",
    "\n",
    "* Set 1: [1 3 5 7 9 11 13 15 17 19 21 23 25 27 29 31]\n",
    "* Set 2: [2 3 6 7 10 11 14 15 18 19 22 23 26 27 30 31]\n",
    "* Set 3: [4 5 6 7 12 13 14 15 20 21 22 23 28 29 30 31]\n",
    "* Set 4: [8 9 10 11 12 13 14 15 24 25 26 27 28 29 30 31]\n",
    "* Set 5: [16 17 18 19 20 21 22 23 24 25 26 27 28 29 30 31]\n",
    "    \n",
    "\n",
    "Le jour de naissance est la somme des premiers nombres dans les ensembles où le jour apparaît. Par exemple,\n",
    "si le jour de naissance est 19, il apparaît dans Set 1, Set 2 et Set 5. Les premiers chiffres de ces trois ensembles sont 1, 2 et 16. Leur somme est 19."
   ]
  },
  {
   "cell_type": "code",
   "execution_count": null,
   "metadata": {
    "slideshow": {
     "slide_type": "notes"
    }
   },
   "outputs": [],
   "source": []
  },
  {
   "cell_type": "markdown",
   "metadata": {
    "slideshow": {
     "slide_type": "slide"
    }
   },
   "source": [
    "**Excercice 10:**\n",
    "\n",
    "Ecrire un programme qui permet de génèrer de manière aléatoire un nombre à deux chiffres, invite l'utilisateur à saisir un nombre à deux chiffres et détermine si l'utilisateur gagne selon les règles suivantes :\n",
    "* Si l'entrée de l'utilisateur correspond à la loterie (le nombre généré aléatoirement) dans l'ordre exact, la récompense est de 10 000€.\n",
    "* Sinon, si les deux chiffres entrés par l'utilisateur correspondent aux deux chiffres du numéro de loterie, la récompense est de 3 000€.\n",
    "* Sinon, si un chiffre dans l'entrée de l'utilisateur correspond à un chiffre dans le numéro de loterie, la récompense est de 1 000€.\n",
    "\n",
    "**Astuce :** Utiliser la fonction **random.randint(0, 99)** pour génèrer de manière aléatoire un nombre à deux chiffres. Cette fonction doit être accompagné par **import random** comme première instruction dans le code."
   ]
  },
  {
   "cell_type": "code",
   "execution_count": null,
   "metadata": {
    "slideshow": {
     "slide_type": "notes"
    }
   },
   "outputs": [],
   "source": []
  },
  {
   "source": [
    "**Exercice 11:**\n",
    "    \n",
    "Ecrire un programme qui permet de calculer la somme des chiffres d'un entier *n* donné. Le nombre *n* doit être compris entre 10 et 20 (bornes incluses)."
   ],
   "cell_type": "markdown",
   "metadata": {}
  },
  {
   "cell_type": "code",
   "execution_count": null,
   "metadata": {},
   "outputs": [],
   "source": []
  },
  {
   "source": [
    "**Exercice 12:**\n",
    "\n",
    "1. Ecrire un programme qui permet de générer aléatoirement deux nombres entre 0 et 9, de calculer leurs différences (en valeur absolue), puis d'inviter l'utilisateur à répondre à la question suivante *que vaut abs(number1 - number2)?*. Le programme doit permettre à l'utilisateur de répondre plusieurs fois jusqu'à la saisie de la bonne réponse.\n",
    "2. Modifier le programme précédent de telle sorte qu'il génère cinq occurences à la suite invitant à répondre à la question précédente. A la fin, le programme affiche le nombre moyen de tentatives qu'il a fallu à l'utilisateur pour répondre à une question."
   ],
   "cell_type": "markdown",
   "metadata": {}
  },
  {
   "cell_type": "code",
   "execution_count": null,
   "metadata": {
    "tags": []
   },
   "outputs": [],
   "source": []
  },
  {
   "cell_type": "code",
   "execution_count": null,
   "metadata": {
    "tags": []
   },
   "outputs": [],
   "source": [
    "\n"
   ]
  },
  {
   "source": [
    "**Exercice 13:**\n",
    "\n",
    "Ecrire un programme qui permet de calculer le nombre de mots dans une phrase saisie par l'utilisateur."
   ],
   "cell_type": "markdown",
   "metadata": {}
  },
  {
   "cell_type": "code",
   "execution_count": null,
   "metadata": {
    "tags": []
   },
   "outputs": [],
   "source": [
    " "
   ]
  },
  {
   "cell_type": "markdown",
   "metadata": {
    "slideshow": {
     "slide_type": "slide"
    }
   },
   "source": [
    "---\n",
    "\n",
    "## 4. Pour s'entraîner\n",
    "\n",
    "**Exercice 14:**\n",
    "    \n",
    "Soit la variable my_input = \"zoophysiology\". Ecrire un script qui permet d'afficher l'un des messages suivants en fonction du nombre maximum de *o* consécutifs dans la variable *my_input*. Par exemple, le script doit afficher \"I like studying birds! I want to become an ornithologist!\" parce qu'il y a deux *o* consécutifs, même s'il y a aussi des *o* individual.\n",
    "Ignorer les *o* majuscules - recherchez que les *o* minuscules.\n",
    "\n",
    "* Si \"o\" apparaît trois fois ou plus de suite, afficher le message \"I like going to the zoo!\"  \n",
    "* Si \"o\" apparaît deux fois, afficher le message \"I like studying birds! I want to become an ornithologist!\"  \n",
    "* Si \"o\" apparaît une seule fois, afficher le message \"I like studying fish! I want to become an ichthyologist!\"  \n",
    "* Si \"o\" n'apparaît pas dans la variable *my_input*, afficher le message \"I miss going to the zoo!\"  \n",
    "\n",
    "**Astuce :** Utiliser l'opérateur **in** qui renvoie **True** si la première chaîne se trouve dans la deuxième chaîne. "
   ]
  },
  {
   "cell_type": "code",
   "execution_count": null,
   "metadata": {
    "slideshow": {
     "slide_type": "notes"
    }
   },
   "outputs": [],
   "source": []
  },
  {
   "cell_type": "markdown",
   "metadata": {
    "slideshow": {
     "slide_type": "slide"
    }
   },
   "source": [
    "**Exercice 15:**\n",
    "    \n",
    "Créer quatre variables nommées *team_1* et *team_2*, représentant deux noms d'équipes, et *team_1_score* et *team_2_score*, représentant les scores de ces deux équipes. \n",
    "Une équipe gagne si son score est supérieur à l'autre score de l'autre équipe.\n",
    " \n",
    "Ecrire un premier script qui permet d'afficher les messages suivants selon les valeurs entrées, ceci en utilisant seulement les quatres variables créées :\n",
    "* Si une équipe bat l'autre, affichez: \"[winner] beat [loser] by [margin]\"\n",
    "* Si aucune des équipes n'a gagné, affichez: \"[team_1] played [team_2] and it was a tie\"\n",
    "\n",
    "Ecrire un deuxième script qui permet d'afficher les mêmes messages mais en ajoutant trois variables de plus :\n",
    "* La variable *winner* pour définir l'équipe gagnante  \n",
    "* La variable *loser* pour définier l'équipe perdante  \n",
    "* La variable *margin* pour définir la différence entre les deux scores \n"
   ]
  },
  {
   "cell_type": "code",
   "execution_count": null,
   "metadata": {
    "slideshow": {
     "slide_type": "notes"
    }
   },
   "outputs": [],
   "source": []
  },
  {
   "cell_type": "code",
   "execution_count": null,
   "metadata": {
    "slideshow": {
     "slide_type": "notes"
    }
   },
   "outputs": [],
   "source": []
  },
  {
   "cell_type": "markdown",
   "metadata": {
    "slideshow": {
     "slide_type": "slide"
    }
   },
   "source": [
    "**Exercice 16:**\n",
    "    \n",
    "L'Indice de Masse Corporelle (IMC) permet d'estimer le poids idéal en fonction de la taille. Son calcul correspond au poids en kilogrammes divisé par le carré de la taille en mètre (IMC = poids en kg/taille² en m). Le chiffre obtenu permet d'estimer la corpulence et éventuellement le surpoids ou l'obésité chez l'adulte, homme ou femme.\n",
    "L'interprétation de l'IMC pour les personnes de 16 ans et plus est la suivante :\n",
    "* Moins de 18.5: Underweight\n",
    "* Entre 18.5 et 24.9: Normal\n",
    "* Entre 25.0 et 29.9: Overweight\n",
    "* Plus que 30.0: Obese\n",
    "\n",
    "Ecrire un programme qui permet de saisir un poids en *pounds* et une taille en *inches*, de calculer et d'afficher l'IMC à deux valeurs après la virgule, et d'afficher l'interprétation la plus adéquate. Notez qu'un *pound* équivaut à 0,45359237 kilogrammes et qu'un *inch* équivaut à 0,0254 mètre.  \n",
    "\n",
    "**Astuce :** Pour afficher deux valeurs après la virgule, utilisez la fonction **format(nom_variable, \".2f\")**. Exemple : **print('La moyenne est :', format(moyenne, \".2f\"))**"
   ]
  },
  {
   "cell_type": "code",
   "execution_count": null,
   "metadata": {
    "slideshow": {
     "slide_type": "notes"
    }
   },
   "outputs": [],
   "source": []
  },
  {
   "source": [
    "**Exercice 17:**\n",
    "\n",
    "Ecrire un programme qui affiche un triangle d'étoiles de taille donnée, par exemple si on entre 6, le programme affiche:\n",
    "```\n",
    "*\n",
    "**\n",
    "***\n",
    "****\n",
    "*****\n",
    "******\n",
    "```"
   ],
   "cell_type": "markdown",
   "metadata": {}
  },
  {
   "cell_type": "code",
   "execution_count": null,
   "metadata": {
    "tags": []
   },
   "outputs": [],
   "source": []
  },
  {
   "source": [
    "**Exercice 18:**\n",
    "\n",
    "Même exercice mais cette fois la sortie est\n",
    "```\n",
    "     *\n",
    "    **         \n",
    "   ***\n",
    "  ****\n",
    " *****\n",
    "******\n",
    "```"
   ],
   "cell_type": "markdown",
   "metadata": {}
  },
  {
   "cell_type": "code",
   "execution_count": null,
   "metadata": {
    "tags": []
   },
   "outputs": [],
   "source": []
  },
  {
   "source": [
    "**Exercice 19:**\n",
    "\n",
    "Ecrire un programme qui calcule, étant donné un entier *n* rentré par l'utilisateur, la plus grande puissance de *n* inférieure à un million."
   ],
   "cell_type": "markdown",
   "metadata": {}
  },
  {
   "cell_type": "code",
   "execution_count": null,
   "metadata": {
    "tags": []
   },
   "outputs": [],
   "source": []
  }
 ],
 "metadata": {
  "celltoolbar": "Diaporama",
  "kernelspec": {
   "display_name": "Python 3",
   "language": "python",
   "name": "python3"
  },
  "language_info": {
   "codemirror_mode": {
    "name": "ipython",
    "version": 3
   },
   "file_extension": ".py",
   "mimetype": "text/x-python",
   "name": "python",
   "nbconvert_exporter": "python",
   "pygments_lexer": "ipython3",
   "version": "3.8.5-final"
  }
 },
 "nbformat": 4,
 "nbformat_minor": 4
}