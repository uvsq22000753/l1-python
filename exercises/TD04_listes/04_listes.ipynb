{
 "cells": [
  {
   "cell_type": "markdown",
   "metadata": {},
   "source": [
    "# TD 4: Listes"
   ]
  },
  {
   "cell_type": "markdown",
   "metadata": {},
   "source": [
    "---\n",
    "\n",
    "## 1. Débuts avec les listes\n",
    "\n",
    "Dans cette partie, il faut écrire les réponses directement dans le notebook. En plus du cours, n'hésitez pas à consulter la documentation (tutoriel) Python sur les listes [ici (introduction aux listes)](https://docs.python.org/fr/3.6/tutorial/introduction.html#lists) et [ici (complément sur les listes)] (https://docs.python.org/fr/3/tutorial/datastructures.html#more-on-lists).\n",
    "\n",
    "1. Créer la liste `3, 5, 10`, l'affecter à une variable, puis l'afficher."
   ]
  },
  {
   "cell_type": "code",
   "execution_count": 3,
   "metadata": {},
   "outputs": [
    {
     "output_type": "stream",
     "name": "stdout",
     "text": [
      "[3, 5, 10]\n"
     ]
    }
   ],
   "source": [
    "liste = [3, 5, 10]\n",
    "print(liste)"
   ]
  },
  {
   "cell_type": "markdown",
   "metadata": {},
   "source": [
    "2. Ajouter ensuite 12 et 17 à la fin puis afficher à nouveau la liste."
   ]
  },
  {
   "cell_type": "code",
   "execution_count": 4,
   "metadata": {},
   "outputs": [
    {
     "output_type": "stream",
     "name": "stdout",
     "text": [
      "[3, 5, 10, 12, 17]\n"
     ]
    }
   ],
   "source": [
    "liste.append(12)\n",
    "liste.append(17)\n",
    "print(liste)"
   ]
  },
  {
   "cell_type": "markdown",
   "metadata": {},
   "source": [
    "3. Changer le 10 en -7."
   ]
  },
  {
   "cell_type": "code",
   "execution_count": 5,
   "metadata": {},
   "outputs": [
    {
     "output_type": "stream",
     "name": "stdout",
     "text": [
      "[3, 5, -7, 12, 17]\n"
     ]
    }
   ],
   "source": [
    "liste[2] = -7\n",
    "print(liste)"
   ]
  },
  {
   "cell_type": "markdown",
   "metadata": {},
   "source": [
    "4. Avec une boucle `for`, écrire le double de chaque élément de la liste. Cela doit afficher `[6, 10, -14, 24, 34]`. La liste doit être modifiée."
   ]
  },
  {
   "cell_type": "code",
   "execution_count": 6,
   "metadata": {},
   "outputs": [
    {
     "output_type": "stream",
     "name": "stdout",
     "text": [
      "[6, 10, -14, 24, 34]\n"
     ]
    }
   ],
   "source": [
    "for i in range(len(liste)):\n",
    "    liste[i] = liste[i] * 2\n",
    "print(liste)\n",
    "\n",
    "\n"
   ]
  },
  {
   "cell_type": "markdown",
   "metadata": {},
   "source": [
    "5. A l'aide d'une boucle `for`, ajouter  la valeur `i` à l'élément d'indice `i` de la liste. Cela doit afficher `[6, 11, -12, 27, 38]`. La liste doit être modifiée."
   ]
  },
  {
   "cell_type": "code",
   "execution_count": 7,
   "metadata": {},
   "outputs": [
    {
     "output_type": "stream",
     "name": "stdout",
     "text": [
      "[6, 11, -12, 27, 38]\n"
     ]
    }
   ],
   "source": [
    "for i in range(len(liste)):\n",
    "    liste[i] = liste[i] + i\n",
    "print(liste)"
   ]
  },
  {
   "cell_type": "markdown",
   "metadata": {},
   "source": [
    "6. Tirer 10 nombres à 2 chiffres au hasard et les mettre dans une nouvelle liste (vide au départ), puis afficher la somme des entiers de la liste et le plus grand de ces entiers."
   ]
  },
  {
   "cell_type": "code",
   "execution_count": 8,
   "metadata": {},
   "outputs": [
    {
     "output_type": "stream",
     "name": "stdout",
     "text": [
      "[11, 12, 16, 11, 13, 15, 12, 15, 11, 14]\n>La somme des entier de ma liste est  130\nAfficher liste triée  [11, 11, 11, 12, 12, 13, 14, 15, 15, 16]\n16\n"
     ]
    }
   ],
   "source": [
    "from random import *\n",
    "liste_new = []\n",
    "for i in range(10):\n",
    "    n = randint (10, 16)\n",
    "    liste_new.append(n)\n",
    "print(liste_new)\n",
    "somme = 0 \n",
    "for i in range(len(liste_new)):\n",
    "    somme += liste_new[i]\n",
    "print(\">La somme des entier de ma liste est \", somme)\n",
    "\n",
    "liste_new.sort()\n",
    "print(\"Afficher liste triée \", liste_new)\n",
    "max = liste_new[-1]\n",
    "print(max)"
   ]
  },
  {
   "cell_type": "markdown",
   "metadata": {},
   "source": [
    "7. A partir de la liste choisie au hasard, créer une liste qui contient les éléments pairs et une deuxième liste qui contient les éléments impairs."
   ]
  },
  {
   "cell_type": "code",
   "execution_count": 9,
   "metadata": {},
   "outputs": [
    {
     "output_type": "stream",
     "name": "stdout",
     "text": [
      ">La liste des nombres paire est :  [12, 12, 14, 16]\n>La liste des nombres impaire est :  [11, 11, 11, 13, 15, 15]\n"
     ]
    }
   ],
   "source": [
    "from math import * \n",
    "\n",
    "Lp = []\n",
    "Li = []\n",
    "\n",
    "for i in range(len(liste_new)):\n",
    "    if liste_new[i] % 2 == 0:\n",
    "        Lp.append(liste_new[i])\n",
    "    else:\n",
    "        Li.append(liste_new[i])\n",
    "\n",
    "print(\">La liste des nombres paire est : \", Lp)\n",
    "print(\">La liste des nombres impaire est : \", Li)"
   ]
  },
  {
   "cell_type": "markdown",
   "metadata": {},
   "source": [
    "8. Trier la liste choisie au hasard par ordre croissant en modifiant la liste."
   ]
  },
  {
   "cell_type": "code",
   "execution_count": 16,
   "metadata": {},
   "outputs": [
    {
     "output_type": "stream",
     "name": "stdout",
     "text": [
      "[2, 3, 3, 6, 8, 9, 13, 14, 14, 18]\n"
     ]
    }
   ],
   "source": [
    "from random import *\n",
    "\n",
    "new_liste = []\n",
    "for i in range(10):\n",
    "    n = randint(1, 20)\n",
    "    new_liste.append(n)\n",
    "    new_liste.sort()\n",
    "\n",
    "print(new_liste)\n",
    "\n"
   ]
  },
  {
   "cell_type": "markdown",
   "metadata": {},
   "source": [
    "9. Supprimer le plus petit et le plus grand élément de la liste triée."
   ]
  },
  {
   "cell_type": "code",
   "execution_count": 17,
   "metadata": {},
   "outputs": [
    {
     "output_type": "stream",
     "name": "stdout",
     "text": [
      "[3, 3, 6, 8, 9, 13, 14, 14]\n"
     ]
    }
   ],
   "source": [
    "del new_liste[0]\n",
    "del new_liste[-1]\n",
    "print(new_liste)"
   ]
  },
  {
   "cell_type": "markdown",
   "metadata": {},
   "source": [
    "10. Créer la liste des entiers de 1 jusqu'à 52. Ces entiers représentent les cartes d'un paquet de 52 cartes."
   ]
  },
  {
   "cell_type": "code",
   "execution_count": 25,
   "metadata": {},
   "outputs": [
    {
     "output_type": "stream",
     "name": "stdout",
     "text": [
      "[0, 1, 2, 3, 4, 5, 6, 7, 8, 9, 10, 11, 12, 13, 14, 15, 16, 17, 18, 19, 20, 21, 22, 23, 24, 25, 26, 27, 28, 29, 30, 31, 32, 33, 34, 35, 36, 37, 38, 39, 40, 41, 42, 43, 44, 45, 46, 47, 48, 49, 50, 51, 52]\n"
     ]
    }
   ],
   "source": [
    "carte = [i for i in range(53)]\n",
    "print(carte)\n"
   ]
  },
  {
   "cell_type": "markdown",
   "metadata": {},
   "source": [
    " 11. Couper le jeu de carte revient à choisir un indice `i` entre 0 et 51, et à passer toutes les cartes allant des indices 0 à i-1 à la suite des cartes qui vont des indices i à 51. Ecrire le code qui effectue une coupe choisie au hasard."
   ]
  },
  {
   "cell_type": "code",
   "execution_count": null,
   "metadata": {},
   "outputs": [],
   "source": []
  },
  {
   "cell_type": "markdown",
   "metadata": {},
   "source": [
    "---\n",
    "\n",
    "## 2. Problème de Syracuse\n",
    "\n",
    "Cette partie est à traiter dans un script que vous pouvez appeler, par exemple, `syracuse.py`.\n",
    "\n",
    "En partant d'un entier `n` de départ, on définit une suite d'entiers en obtenant chaque nouveau terme à partir du précédent soit en le divisant par 2 s'il est pair, soit en le multipliant par 3 et en ajoutant 1 s'il est impair. \n",
    "\n",
    "1. Sans écrire de programme, calculer les premières valeurs de la suite en chosissant `n = 3`.\n",
    "\n",
    "2. Ecrire la fonction qui, à partir d'un entier initial, renvoie la liste des valeurs successives jusqu'à ce que la valeur `1` soit atteinte (le dernier élément de la liste est donc toujours 1)."
   ]
  },
  {
   "source": [
    "from random import *\n",
    "\n",
    "def syracuse(n):\n",
    "    \"\"\" Retourne la liste des valeurs de la suite en partant de n jusqu'à 1 \"\"\"\n",
    "    listes_valeurs_successives = []\n",
    "    while (n != 1):\n",
    "        if (n // 2 == 0):\n",
    "            n = n // 2\n",
    "        else:\n",
    "            n = n * 3 + 1\n",
    "        listes_valeurs_successives.append(n)\n",
    "    return listes_valeurs_successives\n",
    "    \n",
    "n = randint(10, 100)\n",
    "print(syracuse(3))\n",
    "print(syracuse(2))\n"
   ],
   "cell_type": "code",
   "metadata": {},
   "execution_count": 8,
   "outputs": [
    {
     "output_type": "error",
     "ename": "MemoryError",
     "evalue": "",
     "traceback": [
      "\u001b[1;31m---------------------------------------------------------------------------\u001b[0m",
      "\u001b[1;31mMemoryError\u001b[0m                               Traceback (most recent call last)",
      "\u001b[1;32m<ipython-input-8-a9282fec276d>\u001b[0m in \u001b[0;36m<module>\u001b[1;34m\u001b[0m\n\u001b[0;32m     13\u001b[0m \u001b[1;33m\u001b[0m\u001b[0m\n\u001b[0;32m     14\u001b[0m \u001b[0mn\u001b[0m \u001b[1;33m=\u001b[0m \u001b[0mrandint\u001b[0m\u001b[1;33m(\u001b[0m\u001b[1;36m10\u001b[0m\u001b[1;33m,\u001b[0m \u001b[1;36m100\u001b[0m\u001b[1;33m)\u001b[0m\u001b[1;33m\u001b[0m\u001b[1;33m\u001b[0m\u001b[0m\n\u001b[1;32m---> 15\u001b[1;33m \u001b[0mprint\u001b[0m\u001b[1;33m(\u001b[0m\u001b[0msyracuse\u001b[0m\u001b[1;33m(\u001b[0m\u001b[1;36m3\u001b[0m\u001b[1;33m)\u001b[0m\u001b[1;33m)\u001b[0m\u001b[1;33m\u001b[0m\u001b[1;33m\u001b[0m\u001b[0m\n\u001b[0m\u001b[0;32m     16\u001b[0m \u001b[0mprint\u001b[0m\u001b[1;33m(\u001b[0m\u001b[0msyracuse\u001b[0m\u001b[1;33m(\u001b[0m\u001b[1;36m2\u001b[0m\u001b[1;33m)\u001b[0m\u001b[1;33m)\u001b[0m\u001b[1;33m\u001b[0m\u001b[1;33m\u001b[0m\u001b[0m\n",
      "\u001b[1;32m<ipython-input-8-a9282fec276d>\u001b[0m in \u001b[0;36msyracuse\u001b[1;34m(n)\u001b[0m\n\u001b[0;32m      8\u001b[0m             \u001b[0mn\u001b[0m \u001b[1;33m=\u001b[0m \u001b[0mn\u001b[0m \u001b[1;33m//\u001b[0m \u001b[1;36m2\u001b[0m\u001b[1;33m\u001b[0m\u001b[1;33m\u001b[0m\u001b[0m\n\u001b[0;32m      9\u001b[0m         \u001b[1;32melse\u001b[0m\u001b[1;33m:\u001b[0m\u001b[1;33m\u001b[0m\u001b[1;33m\u001b[0m\u001b[0m\n\u001b[1;32m---> 10\u001b[1;33m             \u001b[0mn\u001b[0m \u001b[1;33m=\u001b[0m \u001b[0mn\u001b[0m \u001b[1;33m*\u001b[0m \u001b[1;36m3\u001b[0m \u001b[1;33m+\u001b[0m \u001b[1;36m1\u001b[0m\u001b[1;33m\u001b[0m\u001b[1;33m\u001b[0m\u001b[0m\n\u001b[0m\u001b[0;32m     11\u001b[0m         \u001b[0mlistes_valeurs_successives\u001b[0m\u001b[1;33m.\u001b[0m\u001b[0mappend\u001b[0m\u001b[1;33m(\u001b[0m\u001b[0mn\u001b[0m\u001b[1;33m)\u001b[0m\u001b[1;33m\u001b[0m\u001b[1;33m\u001b[0m\u001b[0m\n\u001b[0;32m     12\u001b[0m     \u001b[1;32mreturn\u001b[0m \u001b[0mlistes_valeurs_successives\u001b[0m\u001b[1;33m\u001b[0m\u001b[1;33m\u001b[0m\u001b[0m\n",
      "\u001b[1;31mMemoryError\u001b[0m: "
     ]
    }
   ]
  },
  {
   "cell_type": "markdown",
   "metadata": {},
   "source": [
    "3. La conjecture de Collatz (ou problème de Syracuse) affirme que, quel que soit l’entier `n` que l’on choisisse au départ, on finit toujours par arriver à 1 (ce résultat est une *conjecture*, c'est-à-dire qu'il n'a pas été démontré, mais qu'il n'existe pas de contre-exemple connu). Écrire une fonction qui, en appelant la fonction précédente, va vérifier si la conjecture est vraie pour `n` de 1 à `n_max`, où `n_max` est un paramètre de la fonction. \n",
    "\n",
    "*Remarque*: si tout se passe bien, la fonction doit juste se terminer et renvoyer `True` par exemple. Sinon, c’est qu’on sera entré dans une boucle infinie."
   ]
  },
  {
   "cell_type": "code",
   "execution_count": null,
   "metadata": {
    "tags": []
   },
   "outputs": [],
   "source": [
    "def testeConjecture(n_max):\n",
    "    \"\"\" Teste la conjecture de Collatz pour toutes les valeurs de 2 à n_max \"\"\"\n",
    "    a = []\n",
    "    for i in range(2, n_max):\n",
    "        a = syracuse(i)\n",
    "        if (a[-1] == 1):\n",
    "            print(\"Pour n= \", i, \"Syracuse est TRUE\")\n",
    "    pass\n",
    "    \n",
    "\n",
    "print(testeConjecture(10000))"
   ]
  },
  {
   "cell_type": "markdown",
   "metadata": {},
   "source": [
    "4. On appelle *temps de vol* de l’entier `n` le nombre d’étapes pour aller de `n` jusqu’à 1. Le temps de vol de 1 est 0, le temps de vol de 3 est 7. Écrire une fonction qui, étant donné un paramètre `n`, renvoie son temps de vol."
   ]
  },
  {
   "cell_type": "code",
   "execution_count": 1,
   "metadata": {},
   "outputs": [
    {
     "output_type": "error",
     "ename": "NameError",
     "evalue": "name 'syracuse' is not defined",
     "traceback": [
      "\u001b[1;31m---------------------------------------------------------------------------\u001b[0m",
      "\u001b[1;31mNameError\u001b[0m                                 Traceback (most recent call last)",
      "\u001b[1;32m<ipython-input-1-d3d9f95d102d>\u001b[0m in \u001b[0;36m<module>\u001b[1;34m\u001b[0m\n\u001b[0;32m      5\u001b[0m     \u001b[1;32mreturn\u001b[0m \u001b[0mtemps_vol\u001b[0m\u001b[1;33m\u001b[0m\u001b[1;33m\u001b[0m\u001b[0m\n\u001b[0;32m      6\u001b[0m \u001b[1;33m\u001b[0m\u001b[0m\n\u001b[1;32m----> 7\u001b[1;33m \u001b[0mprint\u001b[0m\u001b[1;33m(\u001b[0m\u001b[1;34m\"Le temps de vol de\"\u001b[0m\u001b[1;33m,\u001b[0m \u001b[1;36m3\u001b[0m\u001b[1;33m,\u001b[0m \u001b[1;34m\"est\"\u001b[0m\u001b[1;33m,\u001b[0m \u001b[0mtempsVol\u001b[0m\u001b[1;33m(\u001b[0m\u001b[1;36m3\u001b[0m\u001b[1;33m)\u001b[0m\u001b[1;33m)\u001b[0m\u001b[1;33m\u001b[0m\u001b[1;33m\u001b[0m\u001b[0m\n\u001b[0m",
      "\u001b[1;32m<ipython-input-1-d3d9f95d102d>\u001b[0m in \u001b[0;36mtempsVol\u001b[1;34m(n)\u001b[0m\n\u001b[0;32m      1\u001b[0m \u001b[1;32mdef\u001b[0m \u001b[0mtempsVol\u001b[0m\u001b[1;33m(\u001b[0m\u001b[0mn\u001b[0m\u001b[1;33m)\u001b[0m\u001b[1;33m:\u001b[0m\u001b[1;33m\u001b[0m\u001b[1;33m\u001b[0m\u001b[0m\n\u001b[0;32m      2\u001b[0m     \u001b[1;34m\"\"\" Retourne le temps de vol de n \"\"\"\u001b[0m\u001b[1;33m\u001b[0m\u001b[1;33m\u001b[0m\u001b[0m\n\u001b[1;32m----> 3\u001b[1;33m     \u001b[0mliste_vol\u001b[0m \u001b[1;33m=\u001b[0m \u001b[0msyracuse\u001b[0m\u001b[1;33m(\u001b[0m\u001b[0mn\u001b[0m\u001b[1;33m)\u001b[0m\u001b[1;33m\u001b[0m\u001b[1;33m\u001b[0m\u001b[0m\n\u001b[0m\u001b[0;32m      4\u001b[0m     \u001b[0mtemps_vol\u001b[0m \u001b[1;33m=\u001b[0m \u001b[0mlen\u001b[0m\u001b[1;33m(\u001b[0m\u001b[0mliste_vol\u001b[0m\u001b[1;33m)\u001b[0m\u001b[1;33m\u001b[0m\u001b[1;33m\u001b[0m\u001b[0m\n\u001b[0;32m      5\u001b[0m     \u001b[1;32mreturn\u001b[0m \u001b[0mtemps_vol\u001b[0m\u001b[1;33m\u001b[0m\u001b[1;33m\u001b[0m\u001b[0m\n",
      "\u001b[1;31mNameError\u001b[0m: name 'syracuse' is not defined"
     ]
    }
   ],
   "source": [
    "def tempsVol(n):\n",
    "    \"\"\" Retourne le temps de vol de n \"\"\"\n",
    "    liste_vol = syracuse(n)\n",
    "    temps_vol = len(liste_vol)\n",
    "    return temps_vol\n",
    "\n",
    "print(\"Le temps de vol de\", 3, \"est\", tempsVol(3))"
   ]
  },
  {
   "cell_type": "markdown",
   "metadata": {},
   "source": [
    "5. Ecrire une fonction qui, étant donné un paramètre `n_max` renvoie la liste des temps de vol de tous les entiers de 1 à `n_max`. *Indication*: utiliser une liste en compréhension."
   ]
  },
  {
   "cell_type": "code",
   "execution_count": null,
   "metadata": {},
   "outputs": [],
   "source": [
    "liste_avec_comprehension = [a for a in range(1,10)]\n",
    "\n",
    "def tempsVol_nmax(n_max):\n",
    "    \"\"\" Retourne la liste de tous les temps de vol de 1 à n_max \"\"\"\n",
    "    liste_temps_vol = tempsVol\n",
    "\n",
    "\n",
    "    \n",
    "    pass\n",
    "\n",
    "\n",
    "print(tempsVolListe(100))"
   ]
  },
  {
   "cell_type": "markdown",
   "metadata": {},
   "source": [
    "6. Déterminer quel entier entre 1 et 10000 a le plus grand temps de vol (réponse 6171 qui a le temps de vol 261)."
   ]
  },
  {
   "cell_type": "markdown",
   "metadata": {},
   "source": [
    "7. L’altitude maximale de l'entier `n` est la plus grande valeur par laquelle passe `n` au cours de son vol. Déterminer quel entier entre 1 et 10000 a la plus grande altitude maximale (réponse 27114424, atteint par l'entier 9663). Ne pas hésiter à écrire de nouvelles fonctions pour cela."
   ]
  },
  {
   "cell_type": "markdown",
   "metadata": {},
   "source": [
    "---\n",
    "\n",
    "## 3. Carré magique\n",
    "\n",
    "*Définition* extraite de [l'article Wikipedia sur le carré magique](https://fr.wikipedia.org/wiki/Carr%C3%A9_magique_(math%C3%A9matiques)): en mathématiques, un carré magique d’ordre $n$ est composé de $n^2$ entiers strictement positifs, écrits sous la forme d’un tableau carré. Ces nombres sont disposés de sorte que leurs sommes sur chaque rangée, sur chaque colonne et sur chaque diagonale principale soient égales. On nomme alors *constante magique* la valeur de ces sommes. \n",
    "\n",
    "Un exemple de carré magique:\n",
    "\n",
    "$$\\begin{bmatrix} 4 & 14 & 15 & 1 \\\\ 9 & 7 & 6 & 12 \\\\ 5 & 11 & 10 & 8 \\\\ 16 & 2 & 3 & 13 \\end{bmatrix}$$\n",
    "\n",
    "1. Sans écrire de programme, vérifier qu'il s'agit bien d'un carré magique, et donner sa constante magique.\n",
    "\n",
    "Les questions qui suivent doivent être traitées dans un script, qui peut s'appeler `carre_magique.py`. Pensez à utiliser [PythonTutor](http://pythontutor.com/) et les outils de programmation pour résoudre les problèmes qui pourraient survenir.\n",
    "\n",
    "2. Créer une liste à deux dimensions affectée à  la variable `carre_mag` contenant ce carré magique."
   ]
  },
  {
   "cell_type": "markdown",
   "metadata": {},
   "source": [
    "3. Créer une deuxième liste affectée à la variable `carre_pas_mag` qui ne soit pas magique à partir du carré magique en changeant le 3 en 7. "
   ]
  },
  {
   "cell_type": "markdown",
   "metadata": {},
   "source": [
    "4. Créer une fonction qui affiche la liste comme un carré."
   ]
  },
  {
   "cell_type": "code",
   "execution_count": null,
   "metadata": {},
   "outputs": [],
   "source": [
    "def afficheCarre(carre):\n",
    "    \"\"\" Affiche la liste à 2 dimensions carre comme un carré\"\"\"\n",
    "    pass\n",
    "\n",
    "afficheCarre(carre_mag)\n",
    "afficheCarre(carre_pas_mag)\n"
   ]
  },
  {
   "cell_type": "markdown",
   "metadata": {},
   "source": [
    "5. Ecrire une fonction qui teste si les lignes du carré ont toutes la même somme. Cette fonction renvoie cette somme si c'est le cas, et `-1` sinon."
   ]
  },
  {
   "cell_type": "code",
   "execution_count": null,
   "metadata": {},
   "outputs": [],
   "source": [
    "def testLignesEgales(carre):\n",
    "    \"\"\" Renvoie la somme des éléments d'une ligne de la liste 2D carre si toutes les lignes ont la même somme, et -1 sinon \"\"\"\n",
    "    pass\n",
    "\n",
    "print(testLignesEgales(carre_mag))\n",
    "print(testLignesEgales(carre_pas_mag))\n"
   ]
  },
  {
   "cell_type": "markdown",
   "metadata": {},
   "source": [
    "6. Même question mais en testant les colonnes."
   ]
  },
  {
   "cell_type": "code",
   "execution_count": null,
   "metadata": {},
   "outputs": [],
   "source": [
    "def testColonnesEgales(carre):\n",
    "    \"\"\" Renvoie la somme des éléments d'une colonne de la liste 2D carre si toutes les colonnes ont la même somme, et -1 sinon \"\"\"\n",
    "    pass\n",
    "\n",
    "print(testColonnesEgales(carre_mag))\n",
    "print(testColonnesEgales(carre_pas_mag))"
   ]
  },
  {
   "cell_type": "markdown",
   "metadata": {},
   "source": [
    "7. Même question mais en testant les 2 diagonales."
   ]
  },
  {
   "cell_type": "code",
   "execution_count": null,
   "metadata": {},
   "outputs": [],
   "source": [
    "def testDiagonalesEgales(carre):\n",
    "    \"\"\" Renvoie la somme des éléments d'une diagonale de la liste 2D carre si les 2 diagonales ont la même somme, et -1 sinon \"\"\"\n",
    "    pass\n",
    "\n",
    "print(testDiagonalesEgales(carre_mag))\n",
    "print(testDiagonalesEgales(carre_pas_mag))"
   ]
  },
  {
   "cell_type": "markdown",
   "metadata": {},
   "source": [
    "8. Créer une fonction qui teste si un carré est magique. Elle retourne `True` si c'est le cas et `False` sinon."
   ]
  },
  {
   "cell_type": "code",
   "execution_count": null,
   "metadata": {},
   "outputs": [],
   "source": [
    "def estCarreMagique(carre):\n",
    "    \"\"\" Renvoie True si c'est un carre magique et False sinon\"\"\"\n",
    "    pass\n",
    "\n",
    "print(estCarreMagique(carre_mag))\n",
    "print(estCarreMagique(carre_pas_mag))"
   ]
  },
  {
   "cell_type": "markdown",
   "metadata": {},
   "source": [
    "9. Un carré d'ordre $n$ est *normal* s'il contient tous les entiers de 1 à $n^2$. Ecrire une fonction qui teste si un carré est normal (pas nécessairement magique)."
   ]
  },
  {
   "cell_type": "code",
   "execution_count": null,
   "metadata": {},
   "outputs": [],
   "source": [
    "def estNormal(carre):\n",
    "    \"\"\" Retourne True si contient toutes les valeurs de 1 à n^2 où n est la taille \n",
    "        du carré, et False sinon \"\"\"\n",
    "    pass\n",
    "\n",
    "print(estNormal(carre_mag))\n",
    "print(estNormal(carre_pas_mag))"
   ]
  }
 ],
 "metadata": {
  "kernelspec": {
   "display_name": "Python 3",
   "language": "python",
   "name": "python3"
  },
  "language_info": {
   "codemirror_mode": {
    "name": "ipython",
    "version": 3
   },
   "file_extension": ".py",
   "mimetype": "text/x-python",
   "name": "python",
   "nbconvert_exporter": "python",
   "pygments_lexer": "ipython3",
   "version": "3.8.5-final"
  }
 },
 "nbformat": 4,
 "nbformat_minor": 1
}